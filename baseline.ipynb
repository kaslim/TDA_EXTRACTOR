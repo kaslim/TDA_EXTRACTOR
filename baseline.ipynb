{
 "cells": [
  {
   "cell_type": "code",
   "execution_count": null,
   "metadata": {
    "id": "mGQuuAUElw5Y",
    "colab": {
     "base_uri": "https://localhost:8080/"
    },
    "executionInfo": {
     "status": "ok",
     "timestamp": 1710307176416,
     "user_tz": -480,
     "elapsed": 42164,
     "user": {
      "displayName": "peihong li",
      "userId": "12023596191358584812"
     }
    },
    "outputId": "d6b5a441-50f4-4728-ed6c-f5af1305d03f",
    "pycharm": {
     "is_executing": true
    }
   },
   "outputs": [],
   "source": [
    "from google.colab import drive\n",
    "drive.mount('/content/drive')"
   ]
  },
  {
   "cell_type": "code",
   "execution_count": 2,
   "metadata": {
    "colab": {
     "base_uri": "https://localhost:8080/"
    },
    "executionInfo": {
     "elapsed": 7219,
     "status": "ok",
     "timestamp": 1710307187877,
     "user": {
      "displayName": "peihong li",
      "userId": "12023596191358584812"
     },
     "user_tz": -480
    },
    "id": "JAGmKzcQvETi",
    "outputId": "63c85a79-dea3-4ee2-df6a-839dbe7e6265"
   },
   "outputs": [
    {
     "output_type": "stream",
     "name": "stdout",
     "text": [
      "Collecting python_speech_features\n",
      "  Downloading python_speech_features-0.6.tar.gz (5.6 kB)\n",
      "  Preparing metadata (setup.py) ... \u001B[?25l\u001B[?25hdone\n",
      "Building wheels for collected packages: python_speech_features\n",
      "  Building wheel for python_speech_features (setup.py) ... \u001B[?25l\u001B[?25hdone\n",
      "  Created wheel for python_speech_features: filename=python_speech_features-0.6-py3-none-any.whl size=5869 sha256=83ab1f27a6559d7030a263746c2358c83700d665650e22deb28481ff693cda94\n",
      "  Stored in directory: /root/.cache/pip/wheels/5a/9e/68/30bad9462b3926c29e315df16b562216d12bdc215f4d240294\n",
      "Successfully built python_speech_features\n",
      "Installing collected packages: python_speech_features\n",
      "Successfully installed python_speech_features-0.6\n"
     ]
    }
   ],
   "source": [
    "!pip install python_speech_features"
   ]
  },
  {
   "cell_type": "code",
   "execution_count": 3,
   "metadata": {
    "colab": {
     "base_uri": "https://localhost:8080/"
    },
    "executionInfo": {
     "elapsed": 7671,
     "status": "ok",
     "timestamp": 1710307202180,
     "user": {
      "displayName": "peihong li",
      "userId": "12023596191358584812"
     },
     "user_tz": -480
    },
    "id": "E6WKgvf-vCf4",
    "outputId": "d57e8ef2-194a-4d53-f2cc-94539997efb4"
   },
   "outputs": [
    {
     "output_type": "stream",
     "name": "stdout",
     "text": [
      "Mounted at /content/gdrive\n"
     ]
    }
   ],
   "source": [
    "from google.colab import drive  # the sounds are stored in google drive\n",
    "drive.mount('/content/gdrive')"
   ]
  },
  {
   "cell_type": "code",
   "execution_count": 4,
   "metadata": {
    "colab": {
     "base_uri": "https://localhost:8080/"
    },
    "id": "8S1jwaxpvPQO",
    "outputId": "5f8a831f-a7b5-4088-99a9-506c13d3ea94",
    "executionInfo": {
     "status": "ok",
     "timestamp": 1710307227144,
     "user_tz": -480,
     "elapsed": 5,
     "user": {
      "displayName": "peihong li",
      "userId": "12023596191358584812"
     }
    }
   },
   "outputs": [
    {
     "output_type": "stream",
     "name": "stdout",
     "text": [
      "/content/gdrive/MyDrive/data/audio\n"
     ]
    }
   ],
   "source": [
    "# folder where files are stored\n",
    "%cd /content/gdrive/MyDrive/data/audio"
   ]
  },
  {
   "cell_type": "code",
   "execution_count": 5,
   "metadata": {
    "id": "S-gRbZEs0sMY",
    "executionInfo": {
     "status": "ok",
     "timestamp": 1710307263537,
     "user_tz": -480,
     "elapsed": 32645,
     "user": {
      "displayName": "peihong li",
      "userId": "12023596191358584812"
     }
    }
   },
   "outputs": [],
   "source": [
    "import numpy as np\n",
    "import os\n",
    "from scipy.io import wavfile\n",
    "import librosa\n",
    "from scipy.signal import cheby1, filtfilt\n",
    "import tensorflow as tf\n",
    "from tensorflow.keras.models import Sequential\n",
    "from sklearn.model_selection import train_test_split\n",
    "from sklearn.preprocessing import LabelEncoder\n",
    "from tensorflow.keras.utils import to_categorical\n",
    "from python_speech_features import mfcc\n",
    "import numpy as np\n",
    "from tensorflow.keras.preprocessing.sequence import pad_sequences\n",
    "from tensorflow.keras.layers import LSTM, Dense, Dropout, Conv1D, MaxPooling1D, Flatten, BatchNormalization, TimeDistributed"
   ]
  },
  {
   "cell_type": "code",
   "execution_count": 6,
   "metadata": {
    "id": "eSbyH-8cxL89",
    "executionInfo": {
     "status": "ok",
     "timestamp": 1710307266578,
     "user_tz": -480,
     "elapsed": 1037,
     "user": {
      "displayName": "peihong li",
      "userId": "12023596191358584812"
     }
    }
   },
   "outputs": [],
   "source": [
    "def read_wav_files(batch_size, data_directory):\n",
    "    \"\"\"\n",
    "    随机读取指定数量的.wav文件及其对应的.hea文件中的标签，跳过找不到标签的文件。\n",
    "\n",
    "    参数:\n",
    "    - batch_size: int, 每个批次的大小。\n",
    "    - data_directory: str, 存储.wav和.hea文件的目录路径。\n",
    "\n",
    "    返回:\n",
    "    - batch_audio: list, 每个元素为一个.wav文件的音频数据。\n",
    "    - batch_labels: list, 每个元素为对应.wav文件的标签。\n",
    "    \"\"\"\n",
    "    all_filenames = [x for x in os.listdir(data_directory) if x.endswith('.wav')]\n",
    "    batch_audio = []\n",
    "    batch_labels = []\n",
    "\n",
    "    while len(batch_audio) < batch_size:\n",
    "        if not all_filenames:  # 如果没有足够的文件满足batch_size，跳出循环\n",
    "            break\n",
    "        filename = np.random.choice(all_filenames)\n",
    "        all_filenames.remove(filename)  # 从列表中移除，避免重复选择\n",
    "\n",
    "        # 尝试读取.wav文件和.hea文件来获取标签\n",
    "        filepath = os.path.join(data_directory, filename)\n",
    "        hea_path = filepath.replace('.wav', '.hea')\n",
    "        try:\n",
    "            with open(hea_path, 'r') as f:\n",
    "                label = None\n",
    "                for line in f:\n",
    "                    if line.startswith('#'):\n",
    "                        label = line[1:].strip()  # 去掉'#'字符并去除两端空白\n",
    "                        break\n",
    "                if label:  # 如果找到了标签\n",
    "                    sampling_freq, audio = wavfile.read(filepath)\n",
    "                    batch_audio.append(audio)\n",
    "                    batch_labels.append(label)\n",
    "                # 如果没有找到标签或.hea文件不存在，自动继续下一次循环，选择新文件\n",
    "        except FileNotFoundError:\n",
    "            continue\n",
    "\n",
    "    return batch_audio, batch_labels\n"
   ]
  },
  {
   "cell_type": "code",
   "execution_count": 7,
   "metadata": {
    "id": "a2ai4TEizrt4",
    "executionInfo": {
     "status": "ok",
     "timestamp": 1710307285608,
     "user_tz": -480,
     "elapsed": 3,
     "user": {
      "displayName": "peihong li",
      "userId": "12023596191358584812"
     }
    }
   },
   "outputs": [],
   "source": [
    "def preprocess_and_resample_audio(batch_audio, original_fs, target_fs=8000, cutoff_freq=3000, filter_order=5):\n",
    "    \"\"\"\n",
    "    对批次中的每个音频信号先重采样到目标采样频率，然后应用Ⅰ型切比雪夫低通滤波器。\n",
    "\n",
    "    参数:\n",
    "    - batch_audio: list, 包含批次中每个音频信号的列表。\n",
    "    - original_fs: int, 原始音频的采样频率。\n",
    "    - target_fs: int, 目标采样频率，默认为8000Hz。\n",
    "    - cutoff_freq: int, 滤波器的截止频率，默认为3000Hz。\n",
    "    - filter_order: int, 滤波器的阶数，默认为5。\n",
    "\n",
    "    返回:\n",
    "    - processed_batch_audio: list, 包含处理后音频信号的列表。\n",
    "    \"\"\"\n",
    "    processed_batch_audio = []\n",
    "    rp = 0.1  # 通带最大损失（纹波），单位为dB\n",
    "    wn = cutoff_freq / (0.5 * target_fs)  # 归一化截止频率\n",
    "    b, a = cheby1(filter_order, rp, wn, 'low')\n",
    "\n",
    "    for audio in batch_audio:\n",
    "        # 转换音频数据为浮点数类型\n",
    "        audio = audio.astype(np.float32, order='C') / np.iinfo(audio.dtype).max\n",
    "        # 重采样到目标采样率\n",
    "        resampled_audio = librosa.resample(audio, orig_sr=original_fs, target_sr=target_fs)\n",
    "        # 应用Ⅰ型切比雪夫低通滤波器\n",
    "        filtered_audio = filtfilt(b, a, resampled_audio)\n",
    "        processed_batch_audio.append(filtered_audio)\n",
    "\n",
    "    return processed_batch_audio\n"
   ]
  },
  {
   "cell_type": "code",
   "execution_count": 8,
   "metadata": {
    "id": "3kBJlN0A1BRw",
    "executionInfo": {
     "status": "ok",
     "timestamp": 1710307317393,
     "user_tz": -480,
     "elapsed": 3,
     "user": {
      "displayName": "peihong li",
      "userId": "12023596191358584812"
     }
    }
   },
   "outputs": [],
   "source": [
    "def extract_mfcc_features(batch_audio, sample_rate):\n",
    "    \"\"\"\n",
    "    提取批次中每个音频信号的MFCC特征。\n",
    "\n",
    "    参数:\n",
    "    - batch_audio: list, 包含处理后音频信号的列表。\n",
    "    - sample_rate: int, 音频的采样频率。\n",
    "\n",
    "    返回:\n",
    "    - mfcc_features: np.ndarray, 每个音频信号的MFCC特征构成的数组。\n",
    "    \"\"\"\n",
    "    mfcc_features = []\n",
    "    for audio in batch_audio:\n",
    "        # 提取MFCC特征\n",
    "        mfcc_feat = mfcc(audio, samplerate=sample_rate, numcep=13, nfft=2048)\n",
    "        mfcc_features.append(mfcc_feat)\n",
    "\n",
    "    # 将列表转换为NumPy数组以方便后续处理\n",
    "    mfcc_features = np.array(mfcc_features, dtype=object)\n",
    "    return mfcc_features\n"
   ]
  },
  {
   "cell_type": "code",
   "execution_count": 12,
   "metadata": {
    "id": "GeG7P3jkFWXL",
    "colab": {
     "base_uri": "https://localhost:8080/"
    },
    "executionInfo": {
     "status": "ok",
     "timestamp": 1710309489292,
     "user_tz": -480,
     "elapsed": 612617,
     "user": {
      "displayName": "peihong li",
      "userId": "12023596191358584812"
     }
    },
    "outputId": "4d383360-85a0-4c4c-96c4-b676176b9cd0"
   },
   "outputs": [
    {
     "output_type": "stream",
     "name": "stdout",
     "text": [
      "Epoch 1/50\n",
      "8/8 [==============================] - 15s 985ms/step - loss: 0.5828 - accuracy: 0.7294 - val_loss: 0.5939 - val_accuracy: 0.7750\n",
      "Epoch 2/50\n",
      "8/8 [==============================] - 7s 827ms/step - loss: 0.5507 - accuracy: 0.7862 - val_loss: 0.5541 - val_accuracy: 0.7750\n",
      "Epoch 3/50\n",
      "8/8 [==============================] - 7s 831ms/step - loss: 0.5342 - accuracy: 0.7925 - val_loss: 0.5635 - val_accuracy: 0.7750\n",
      "Epoch 4/50\n",
      "8/8 [==============================] - 7s 834ms/step - loss: 0.5330 - accuracy: 0.7931 - val_loss: 0.5358 - val_accuracy: 0.7750\n",
      "Epoch 5/50\n",
      "8/8 [==============================] - 7s 835ms/step - loss: 0.5257 - accuracy: 0.7937 - val_loss: 0.5431 - val_accuracy: 0.7750\n",
      "Epoch 6/50\n",
      "8/8 [==============================] - 7s 837ms/step - loss: 0.5310 - accuracy: 0.7937 - val_loss: 0.5372 - val_accuracy: 0.7750\n",
      "Epoch 7/50\n",
      "8/8 [==============================] - 7s 840ms/step - loss: 0.5275 - accuracy: 0.7937 - val_loss: 0.5389 - val_accuracy: 0.7750\n",
      "Epoch 8/50\n",
      "8/8 [==============================] - 7s 843ms/step - loss: 0.5218 - accuracy: 0.7937 - val_loss: 0.5340 - val_accuracy: 0.7750\n",
      "Epoch 9/50\n",
      "8/8 [==============================] - 7s 846ms/step - loss: 0.5174 - accuracy: 0.7937 - val_loss: 0.5355 - val_accuracy: 0.7750\n",
      "Epoch 10/50\n",
      "8/8 [==============================] - 7s 850ms/step - loss: 0.5171 - accuracy: 0.7937 - val_loss: 0.5334 - val_accuracy: 0.7750\n",
      "Epoch 11/50\n",
      "8/8 [==============================] - 7s 849ms/step - loss: 0.5209 - accuracy: 0.7937 - val_loss: 0.5341 - val_accuracy: 0.7750\n",
      "Epoch 12/50\n",
      "8/8 [==============================] - 7s 851ms/step - loss: 0.5224 - accuracy: 0.7937 - val_loss: 0.5340 - val_accuracy: 0.7750\n",
      "Epoch 13/50\n",
      "8/8 [==============================] - 7s 856ms/step - loss: 0.5231 - accuracy: 0.7937 - val_loss: 0.5345 - val_accuracy: 0.7750\n",
      "Epoch 14/50\n",
      "8/8 [==============================] - 7s 855ms/step - loss: 0.5244 - accuracy: 0.7937 - val_loss: 0.5368 - val_accuracy: 0.7750\n",
      "Epoch 15/50\n",
      "8/8 [==============================] - 7s 858ms/step - loss: 0.5211 - accuracy: 0.7937 - val_loss: 0.5332 - val_accuracy: 0.7750\n",
      "Epoch 16/50\n",
      "8/8 [==============================] - 7s 858ms/step - loss: 0.5219 - accuracy: 0.7937 - val_loss: 0.5347 - val_accuracy: 0.7750\n",
      "Epoch 17/50\n",
      "8/8 [==============================] - 7s 862ms/step - loss: 0.5266 - accuracy: 0.7937 - val_loss: 0.5354 - val_accuracy: 0.7750\n",
      "Epoch 18/50\n",
      "8/8 [==============================] - 7s 863ms/step - loss: 0.5202 - accuracy: 0.7937 - val_loss: 0.5334 - val_accuracy: 0.7750\n",
      "Epoch 19/50\n",
      "8/8 [==============================] - 7s 864ms/step - loss: 0.5236 - accuracy: 0.7937 - val_loss: 0.5352 - val_accuracy: 0.7750\n",
      "Epoch 20/50\n",
      "8/8 [==============================] - 7s 865ms/step - loss: 0.5149 - accuracy: 0.7937 - val_loss: 0.5332 - val_accuracy: 0.7750\n",
      "Epoch 21/50\n",
      "8/8 [==============================] - 7s 865ms/step - loss: 0.5182 - accuracy: 0.7937 - val_loss: 0.5334 - val_accuracy: 0.7750\n",
      "Epoch 22/50\n",
      "8/8 [==============================] - 7s 867ms/step - loss: 0.5206 - accuracy: 0.7937 - val_loss: 0.5333 - val_accuracy: 0.7750\n",
      "Epoch 23/50\n",
      "8/8 [==============================] - 7s 864ms/step - loss: 0.5236 - accuracy: 0.7937 - val_loss: 0.5338 - val_accuracy: 0.7750\n",
      "Epoch 24/50\n",
      "8/8 [==============================] - 7s 866ms/step - loss: 0.5173 - accuracy: 0.7937 - val_loss: 0.5332 - val_accuracy: 0.7750\n",
      "Epoch 25/50\n",
      "8/8 [==============================] - 7s 870ms/step - loss: 0.5178 - accuracy: 0.7937 - val_loss: 0.5335 - val_accuracy: 0.7750\n",
      "Epoch 26/50\n",
      "8/8 [==============================] - 7s 869ms/step - loss: 0.5211 - accuracy: 0.7937 - val_loss: 0.5340 - val_accuracy: 0.7750\n",
      "Epoch 27/50\n",
      "8/8 [==============================] - 7s 867ms/step - loss: 0.5202 - accuracy: 0.7937 - val_loss: 0.5338 - val_accuracy: 0.7750\n",
      "Epoch 28/50\n",
      "8/8 [==============================] - 7s 872ms/step - loss: 0.5112 - accuracy: 0.7937 - val_loss: 0.5332 - val_accuracy: 0.7750\n",
      "Epoch 29/50\n",
      "8/8 [==============================] - 7s 871ms/step - loss: 0.5162 - accuracy: 0.7937 - val_loss: 0.5343 - val_accuracy: 0.7750\n",
      "Epoch 30/50\n",
      "8/8 [==============================] - 7s 873ms/step - loss: 0.5211 - accuracy: 0.7937 - val_loss: 0.5339 - val_accuracy: 0.7750\n",
      "Epoch 31/50\n",
      "8/8 [==============================] - 7s 874ms/step - loss: 0.5151 - accuracy: 0.7937 - val_loss: 0.5332 - val_accuracy: 0.7750\n",
      "Epoch 32/50\n",
      "8/8 [==============================] - 7s 876ms/step - loss: 0.5239 - accuracy: 0.7937 - val_loss: 0.5337 - val_accuracy: 0.7750\n",
      "Epoch 33/50\n",
      "8/8 [==============================] - 7s 874ms/step - loss: 0.5207 - accuracy: 0.7937 - val_loss: 0.5333 - val_accuracy: 0.7750\n",
      "Epoch 34/50\n",
      "8/8 [==============================] - 7s 877ms/step - loss: 0.5134 - accuracy: 0.7937 - val_loss: 0.5335 - val_accuracy: 0.7750\n",
      "Epoch 35/50\n",
      "8/8 [==============================] - 7s 877ms/step - loss: 0.5130 - accuracy: 0.7937 - val_loss: 0.5341 - val_accuracy: 0.7750\n",
      "Epoch 36/50\n",
      "8/8 [==============================] - 7s 878ms/step - loss: 0.5191 - accuracy: 0.7937 - val_loss: 0.5335 - val_accuracy: 0.7750\n",
      "Epoch 37/50\n",
      "8/8 [==============================] - 7s 879ms/step - loss: 0.5152 - accuracy: 0.7937 - val_loss: 0.5335 - val_accuracy: 0.7750\n",
      "Epoch 38/50\n",
      "8/8 [==============================] - 7s 883ms/step - loss: 0.5157 - accuracy: 0.7937 - val_loss: 0.5333 - val_accuracy: 0.7750\n",
      "Epoch 39/50\n",
      "8/8 [==============================] - 7s 882ms/step - loss: 0.5168 - accuracy: 0.7937 - val_loss: 0.5335 - val_accuracy: 0.7750\n",
      "Epoch 40/50\n",
      "8/8 [==============================] - 7s 882ms/step - loss: 0.5194 - accuracy: 0.7937 - val_loss: 0.5334 - val_accuracy: 0.7750\n",
      "Epoch 41/50\n",
      "8/8 [==============================] - 7s 878ms/step - loss: 0.5182 - accuracy: 0.7937 - val_loss: 0.5334 - val_accuracy: 0.7750\n",
      "Epoch 42/50\n",
      "8/8 [==============================] - 7s 877ms/step - loss: 0.5182 - accuracy: 0.7937 - val_loss: 0.5333 - val_accuracy: 0.7750\n",
      "Epoch 43/50\n",
      "8/8 [==============================] - 7s 876ms/step - loss: 0.5182 - accuracy: 0.7937 - val_loss: 0.5333 - val_accuracy: 0.7750\n",
      "Epoch 44/50\n",
      "8/8 [==============================] - 7s 878ms/step - loss: 0.5178 - accuracy: 0.7937 - val_loss: 0.5332 - val_accuracy: 0.7750\n",
      "Epoch 45/50\n",
      "8/8 [==============================] - 7s 874ms/step - loss: 0.5181 - accuracy: 0.7937 - val_loss: 0.5332 - val_accuracy: 0.7750\n",
      "Epoch 46/50\n",
      "8/8 [==============================] - 7s 876ms/step - loss: 0.5207 - accuracy: 0.7937 - val_loss: 0.5333 - val_accuracy: 0.7750\n",
      "Epoch 47/50\n",
      "8/8 [==============================] - 7s 875ms/step - loss: 0.5161 - accuracy: 0.7937 - val_loss: 0.5337 - val_accuracy: 0.7750\n",
      "Epoch 48/50\n",
      "8/8 [==============================] - 7s 878ms/step - loss: 0.5191 - accuracy: 0.7937 - val_loss: 0.5332 - val_accuracy: 0.7750\n",
      "Epoch 49/50\n",
      "8/8 [==============================] - 7s 878ms/step - loss: 0.5129 - accuracy: 0.7937 - val_loss: 0.5336 - val_accuracy: 0.7750\n",
      "Epoch 50/50\n",
      "8/8 [==============================] - 7s 876ms/step - loss: 0.5115 - accuracy: 0.7937 - val_loss: 0.5334 - val_accuracy: 0.7750\n",
      "13/13 - 2s - loss: 0.5334 - accuracy: 0.7750 - 2s/epoch - 168ms/step\n",
      "Test Loss: 0.5334219932556152\n",
      "Test Accuracy: 0.7749999761581421\n"
     ]
    }
   ],
   "source": [
    "\n",
    "\n",
    "# 假定你已经有了data_directory变量指向你的数据目录\n",
    "data_directory = '/content/gdrive/MyDrive/data/audio'\n",
    "batch_size = 2000  # 根据你的数据量和内存大小调整\n",
    "original_fs = 2000  # 根据你的音频数据调整\n",
    "target_fs = 8000  # 目标采样率\n",
    "\n",
    "# 使用前面提供的函数读取、预处理数据并提取MFCC特征\n",
    "batch_audio, batch_labels = read_wav_files(batch_size, data_directory)\n",
    "processed_batch_audio = preprocess_and_resample_audio(batch_audio, original_fs, target_fs)\n",
    "mfcc_features = extract_mfcc_features(processed_batch_audio, target_fs)\n",
    "\n",
    "# 处理不同长度的MFCC特征\n",
    "mfcc_features_padded = pad_sequences(mfcc_features, padding='post', dtype='float32')\n",
    "\n",
    "# 准备标签数据\n",
    "label_encoder = LabelEncoder()\n",
    "encoded_labels = label_encoder.fit_transform(batch_labels)\n",
    "one_hot_labels = to_categorical(encoded_labels)\n",
    "\n",
    "# 划分数据集\n",
    "X_train, X_test, y_train, y_test = train_test_split(mfcc_features_padded, one_hot_labels, test_size=0.2, random_state=42)\n",
    "\n",
    "# 定义模型\n",
    "model = Sequential([\n",
    "    # 第一层卷积，卷积层可以帮助提取局部特征\n",
    "    Conv1D(filters=64, kernel_size=5, activation='relu', padding='same', input_shape=(None, 13)),\n",
    "    BatchNormalization(),\n",
    "    MaxPooling1D(pool_size=2),\n",
    "\n",
    "    # 第二层卷积，增加卷积层可以帮助学习更复杂的特征\n",
    "    Conv1D(filters=128, kernel_size=5, activation='relu', padding='same'),\n",
    "    BatchNormalization(),\n",
    "    MaxPooling1D(pool_size=2),\n",
    "\n",
    "    # LSTM层用于学习序列特征，可以通过增加层数来提高复杂度\n",
    "    LSTM(128, return_sequences=True),\n",
    "    LSTM(128),\n",
    "\n",
    "    # 全连接层用于学习非序列特征\n",
    "    Dense(128, activation='relu'),\n",
    "    Dropout(0.5),\n",
    "    Dense(64, activation='relu'),\n",
    "    Dropout(0.5),\n",
    "\n",
    "    # 输出层\n",
    "    Dense(one_hot_labels.shape[1], activation='softmax')\n",
    "])\n",
    "\n",
    "# 编译模型\n",
    "model.compile(optimizer='adam', loss='categorical_crossentropy', metrics=['accuracy'])\n",
    "\n",
    "# 训练模型\n",
    "history = model.fit(X_train, y_train, epochs=50, batch_size=200, validation_data=(X_test, y_test))\n",
    "\n",
    "# 评估模型\n",
    "test_loss, test_acc = model.evaluate(X_test, y_test, verbose=2)\n",
    "print(f\"Test Loss: {test_loss}\\nTest Accuracy: {test_acc}\")\n"
   ]
  },
  {
   "cell_type": "code",
   "execution_count": null,
   "metadata": {
    "id": "2iJFqQiE1uYc"
   },
   "outputs": [],
   "source": []
  },
  {
   "cell_type": "code",
   "execution_count": null,
   "metadata": {
    "id": "XrUBU9sq27L6"
   },
   "outputs": [],
   "source": []
  },
  {
   "cell_type": "code",
   "execution_count": null,
   "metadata": {
    "id": "PJMEYcjI27Gt"
   },
   "outputs": [],
   "source": []
  },
  {
   "cell_type": "code",
   "execution_count": null,
   "metadata": {
    "id": "AAEy44ZI265E"
   },
   "outputs": [],
   "source": []
  }
 ],
 "metadata": {
  "accelerator": "GPU",
  "colab": {
   "gpuType": "T4",
   "machine_shape": "hm",
   "provenance": []
  },
  "kernelspec": {
   "display_name": "Python 3",
   "name": "python3"
  }
 },
 "nbformat": 4,
 "nbformat_minor": 0
}
